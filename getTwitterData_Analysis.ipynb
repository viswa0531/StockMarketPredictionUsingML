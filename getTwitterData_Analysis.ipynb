{
 "cells": [
  {
   "cell_type": "code",
   "execution_count": 19,
   "metadata": {},
   "outputs": [],
   "source": [
    "import re\n",
    "import tweepy\n",
    "from tweepy import OAuthHandler\n",
    "from textblob import TextBlob\n",
    "from tweepy import Stream                   \n",
    "from tweepy.streaming import StreamListener\n",
    "import json\n",
    "import csv\n",
    "import os\n",
    "from os import path\n",
    "import got3"
   ]
  },
  {
   "cell_type": "code",
   "execution_count": 20,
   "metadata": {},
   "outputs": [],
   "source": [
    "consumer_key = \"xxxxxxxxxx\"\n",
    "consumer_secret = \"xxxxxxxxxx\"\n",
    "token_key = \"xxxxxxxxxx\"\n",
    "token_secret = \"xxxxxxxxxx\""
   ]
  },
  {
   "cell_type": "code",
   "execution_count": 21,
   "metadata": {},
   "outputs": [],
   "source": [
    "auth = OAuthHandler(consumer_key, consumer_secret)\n",
    "auth.set_access_token(token_key, token_secret)\n",
    "api = tweepy.API(auth)"
   ]
  },
  {
   "cell_type": "code",
   "execution_count": 23,
   "metadata": {},
   "outputs": [
    {
     "name": "stdout",
     "output_type": "stream",
     "text": [
      "107762\n"
     ]
    }
   ],
   "source": [
    "tweetCriteria = got3.manager.TweetCriteria().setQuerySearch('AMZN').setSince(\"2018-10-01\").setUntil(\"2019-10-15\")\n",
    "tweet = got3.manager.TweetManager.getTweets(tweetCriteria)\n",
    "print (len(tweet))"
   ]
  },
  {
   "cell_type": "code",
   "execution_count": 24,
   "metadata": {},
   "outputs": [],
   "source": [
    "def write_to_csv(tweet):\n",
    "    #fields = [\"timestamp\", \"tweet\", \"user\", \"verified\", \"url\"]\n",
    "    fields = [\"Date\", \"Tweet\", \"PermLink\", \"retweets\", \"Favourites\", \"url\", \"Geo\"]\n",
    "    filename = \"C:\\k.v.singh\\sjsu\\Fall 2019\\CMPE257\\TwitterData\\Amazon.csv\"\n",
    "    fileState = path.isfile(filename)\n",
    "    with open(filename,'a') as fd:        \n",
    "        writer = csv.writer(fd)\n",
    "        if(not fileState):\n",
    "            writer.writerow(fields)\n",
    "        else:\n",
    "            #print(tweet)\n",
    "            writer.writerow([tweet.date, tweet.text.encode(\"utf-8\"), tweet.permalink.encode(\"utf-8\"),tweet.retweets, tweet.favorites,tweet.urls.encode(\"utf-8\"),tweet.geo.encode(\"utf-8\")])\n",
    "        #fd.write(timestamp, tweet, user, verified, url)       "
   ]
  },
  {
   "cell_type": "code",
   "execution_count": 25,
   "metadata": {},
   "outputs": [],
   "source": [
    "for idx in range(len(tweet)):\n",
    "    write_to_csv(tweet[idx])"
   ]
  },
  {
   "cell_type": "code",
   "execution_count": 26,
   "metadata": {},
   "outputs": [],
   "source": [
    "def clean_tweet(tweet):\n",
    "    return ' '.join(re.sub(\"(@[A-Za-z0-9]+)|([^0-9A-Za-z \\t]) | (\\w+:\\/\\/\\S+)\", \" \", tweet).split())"
   ]
  },
  {
   "cell_type": "code",
   "execution_count": 27,
   "metadata": {},
   "outputs": [],
   "source": [
    "def get_tweet_sentiment(tweet):\n",
    "    analysis = TextBlob(clean_tweet(tweet))\n",
    "    if analysis.sentiment.polarity > 0:\n",
    "        return 'positive'\n",
    "    elif analysis.sentiment.polarity == 0: \n",
    "        return 'neutral'\n",
    "    else: \n",
    "        return 'negative'"
   ]
  },
  {
   "cell_type": "code",
   "execution_count": 64,
   "metadata": {},
   "outputs": [],
   "source": [
    "import pandas as pd\n",
    " \n",
    "tweets_data_path = \"C:\\k.v.singh\\sjsu\\Fall 2019\\CMPE257\\TwitterData\\Amazon.csv\"\n",
    "pdData = pd.read_csv(tweets_data_path, delimiter=\",\")\n",
    "for row in pdData['Tweet']:    \n",
    "    try:\n",
    "        parsedTweet = {}\n",
    "        #parsedTweet['date'] = row['Date']\n",
    "        parsedTweet['text'] = row\n",
    "        parsedTweet['sentiment'] = get_tweet_sentiment(row)\n",
    "        tweets_data.append(parsedTweet)\n",
    "    except tweepy.TweepError as e:\n",
    "        print(\"Error : \" + str(e))\n"
   ]
  },
  {
   "cell_type": "code",
   "execution_count": 60,
   "metadata": {},
   "outputs": [
    {
     "name": "stdout",
     "output_type": "stream",
     "text": [
      "Positive tweets percentage: 35.32354005623556 %\n",
      "Negative tweets percentage: 10.926030753240969 %\n",
      "Neutral tweets percentage: 53.75042919052348 %\n"
     ]
    }
   ],
   "source": [
    "#ptweets = [tweet for tweet in tweets_data if tweets_data['sentiment'] == 'positive']\n",
    "ptweets = [tweet for tweet in tweets_data if tweet['sentiment'] == 'positive']\n",
    "print(\"Positive tweets percentage: {} %\".format(100*len(ptweets)/len(tweets_data)))\n",
    "ntweets = [tweet for tweet in tweets_data if tweet['sentiment'] == 'negative']\n",
    "print(\"Negative tweets percentage: {} %\".format(100*len(ntweets)/len(tweets_data)))\n",
    "print(\"Neutral tweets percentage: {} %\".format(100*(len(tweets_data) - len(ntweets) - len(ptweets))/len(tweets_data)))"
   ]
  },
  {
   "cell_type": "code",
   "execution_count": null,
   "metadata": {},
   "outputs": [],
   "source": []
  }
 ],
 "metadata": {
  "kernelspec": {
   "display_name": "Python 3",
   "language": "python",
   "name": "python3"
  },
  "language_info": {
   "codemirror_mode": {
    "name": "ipython",
    "version": 3
   },
   "file_extension": ".py",
   "mimetype": "text/x-python",
   "name": "python",
   "nbconvert_exporter": "python",
   "pygments_lexer": "ipython3",
   "version": "3.7.3"
  }
 },
 "nbformat": 4,
 "nbformat_minor": 2
}
